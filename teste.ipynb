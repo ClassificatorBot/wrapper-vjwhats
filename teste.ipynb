{
 "cells": [
  {
   "cell_type": "code",
   "execution_count": null,
   "metadata": {},
   "outputs": [
    {
     "data": {
      "text/plain": [
       "'c:\\\\Users\\\\User\\\\Desktop\\\\BOT\\\\whatsapp\\\\images\\\\relatorio.png'"
      ]
     },
     "execution_count": 2,
     "metadata": {},
     "output_type": "execute_result"
    }
   ],
   "source": [
    "import os\n",
    "\n",
    "os.path.join(os.getcwd(),'images','relatorio.png')"
   ]
  },
  {
   "cell_type": "code",
   "execution_count": 3,
   "metadata": {},
   "outputs": [
    {
     "name": "stdout",
     "output_type": "stream",
     "text": [
      "Contact: +5519998722472\n",
      "Name: relatorio_Vila Bela\n",
      "Location: Vila Bela\n",
      "Contact: +14997526985\n",
      "Name: relatorio_Juruena\n",
      "Location: Juruena\n"
     ]
    }
   ],
   "source": [
    "contacts = {\n",
    "        \"+5519998722472\": (\"relatorio_Vila Bela\", \"Vila Bela\"),\n",
    "        \"+14997526985\": (\"relatorio_Juruena\", \"Juruena\"),\n",
    "    }\n",
    "for contact in contacts:\n",
    "    print(f\"Contact: {contact}\")\n",
    "    print(f\"Name: {contacts[contact][0]}\")\n",
    "    print(f\"Location: {contacts[contact][1]}\")"
   ]
  }
 ],
 "metadata": {
  "kernelspec": {
   "display_name": "base",
   "language": "python",
   "name": "python3"
  },
  "language_info": {
   "codemirror_mode": {
    "name": "ipython",
    "version": 3
   },
   "file_extension": ".py",
   "mimetype": "text/x-python",
   "name": "python",
   "nbconvert_exporter": "python",
   "pygments_lexer": "ipython3",
   "version": "3.12.4"
  }
 },
 "nbformat": 4,
 "nbformat_minor": 2
}
